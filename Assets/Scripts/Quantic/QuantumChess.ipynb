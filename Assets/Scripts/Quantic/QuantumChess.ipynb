{
 "cells": [
  {
   "cell_type": "code",
   "execution_count": null,
   "metadata": {
    "scrolled": false
   },
   "outputs": [],
   "source": [
    "from qiskit import Aer, IBMQ, QuantumRegister, ClassicalRegister, QuantumCircuit, execute\n",
    "import socket, math\n",
    "\n",
    "HOST = '127.0.0.1'\n",
    "PORT = 64242\n",
    "\n",
    "def quantumProcessing():\n",
    "    device = Aer.get_backend('qasm_simulator')\n",
    "    # set the number of samples used for statistics\n",
    "    shots = 1024\n",
    "\n",
    "    #Parameters\n",
    "    nbPlayer = 2\n",
    "    nbOfquanticToken = 2\n",
    "        \n",
    "    q = QuantumRegister(nbPlayer)\n",
    "    c = ClassicalRegister(nbOfquanticToken)\n",
    "    circuit = QuantumCircuit(q,c)\n",
    "    circuit.h(q[0])\n",
    "    circuit.cx(q[0],q[1])\n",
    "    circuit.measure(q,c)\n",
    "    \n",
    "    job = execute(circuit, backend=device, shots=shots)\n",
    "    data = job.result()\n",
    "\n",
    "    # compile and run the quantum program\n",
    "    job = execute(circuit, backend=device, shots=shots)\n",
    "    data = \"\"\n",
    "    res = job.result().get_counts(circuit)\n",
    "    for key, value in res.items():\n",
    "        data += key\n",
    "        data += \";\"\n",
    "        data += str(value)\n",
    "        data += \";\"\n",
    "    data += \"!\"\n",
    "    return data\n",
    "\n",
    "while(True):\n",
    "    with socket.socket(socket.AF_INET, socket.SOCK_STREAM) as s:\n",
    "        s.bind((HOST, PORT))\n",
    "        s.listen()\n",
    "        conn, addr = s.accept()\n",
    "        with conn:\n",
    "            print('Connected by', addr)\n",
    "            while True:\n",
    "                data = conn.recv(1024)\n",
    "                data = quantumProcessing()\n",
    "                print(data)\n",
    "                conn.sendall(data.encode())"
   ]
  },
  {
   "cell_type": "code",
   "execution_count": null,
   "metadata": {},
   "outputs": [],
   "source": []
  },
  {
   "cell_type": "code",
   "execution_count": null,
   "metadata": {},
   "outputs": [],
   "source": []
  },
  {
   "cell_type": "code",
   "execution_count": null,
   "metadata": {},
   "outputs": [],
   "source": []
  }
 ],
 "metadata": {
  "kernelspec": {
   "display_name": "Python 3",
   "language": "python",
   "name": "python3"
  },
  "language_info": {
   "codemirror_mode": {
    "name": "ipython",
    "version": 3
   },
   "file_extension": ".py",
   "mimetype": "text/x-python",
   "name": "python",
   "nbconvert_exporter": "python",
   "pygments_lexer": "ipython3",
   "version": "3.7.3"
  }
 },
 "nbformat": 4,
 "nbformat_minor": 2
}

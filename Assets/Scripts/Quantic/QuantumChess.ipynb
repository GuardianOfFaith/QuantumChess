{
 "cells": [
  {
   "cell_type": "code",
   "execution_count": null,
   "metadata": {
    "scrolled": false
   },
   "outputs": [],
   "source": [
    "from qiskit import Aer, IBMQ, QuantumRegister, ClassicalRegister, QuantumCircuit, execute\n",
    "import socket, math\n",
    "\n",
    "HOST = '127.0.0.1'\n",
    "PORT = 64242\n",
    "\n",
    "def quantumProcessing(data):\n",
    "    device = Aer.get_backend('qasm_simulator')\n",
    "    # set the number of samples used for statistics\n",
    "    shots = 2048\n",
    "    print(data)\n",
    "    dataList = data.split(\";\")\n",
    "    dataList.pop()\n",
    "    \n",
    "    #Parameters\n",
    "    nbPlayer = 2\n",
    "    nbOfquanticToken = 8\n",
    "    TokenPos = dataList[0:nbPlayer*nbOfquanticToken]\n",
    "    \n",
    "    #create grid\n",
    "    qc = []\n",
    "    \n",
    "    for player in range(2):\n",
    "        # now to set up the quantum program to simulate the grid for this player\n",
    "        # set up registers and program\n",
    "        q = QuantumRegister(8)\n",
    "        c = ClassicalRegister(8)\n",
    "        qc.append(QuantumCircuit(q, c))\n",
    "\n",
    "        # Check The position of the unit\n",
    "        #for position in range(2):\n",
    "            #THERE IS TO CHECK THE SPECIAL OF OUR UNITS\n",
    "                \n",
    "        # Finally, measure them\n",
    "        for position in range(2):\n",
    "            qc[player].measure(q[position], c[position])\n",
    "\n",
    "    # compile and run the quantum program\n",
    "    job = execute(qc, backend=device, shots=shots)\n",
    "    # and extract data\n",
    "    data = \"\"\n",
    "    for player in range(2):\n",
    "        res = job.result().get_counts(qc[player])\n",
    "        for key, value in res.items():\n",
    "            data += key\n",
    "            data += \";\"\n",
    "            data += str(value)\n",
    "            data += \";\"\n",
    "        data += \"!\"\n",
    "    print(data)\n",
    "    return data\n",
    "\n",
    "while(True):\n",
    "    with socket.socket(socket.AF_INET, socket.SOCK_STREAM) as s:\n",
    "        s.bind((HOST, PORT))\n",
    "        s.listen()\n",
    "        conn, addr = s.accept()\n",
    "        with conn:\n",
    "            print('Connected by', addr)\n",
    "            try:\n",
    "                while True:\n",
    "                    data = conn.recv(2048)\n",
    "                    if not data:\n",
    "                        break\n",
    "                    data = quantumProcess(data.decode())\n",
    "                    conn.sendall(data.encode())\n",
    "            except:\n",
    "                print(\"error\")"
   ]
  },
  {
   "cell_type": "code",
   "execution_count": 1,
   "metadata": {},
   "outputs": [],
   "source": []
  },
  {
   "cell_type": "code",
   "execution_count": null,
   "metadata": {},
   "outputs": [],
   "source": []
  }
 ],
 "metadata": {
  "kernelspec": {
   "display_name": "Python 3",
   "language": "python",
   "name": "python3"
  },
  "language_info": {
   "codemirror_mode": {
    "name": "ipython",
    "version": 3
   },
   "file_extension": ".py",
   "mimetype": "text/x-python",
   "name": "python",
   "nbconvert_exporter": "python",
   "pygments_lexer": "ipython3",
   "version": "3.7.3"
  }
 },
 "nbformat": 4,
 "nbformat_minor": 2
}
